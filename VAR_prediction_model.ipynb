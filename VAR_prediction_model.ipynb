{
 "cells": [
  {
   "cell_type": "code",
   "execution_count": null,
   "id": "be79e219",
   "metadata": {},
   "outputs": [],
   "source": [
    "#Importa ll the necessary libraries.\n",
    "import statistics as sta\n",
    "import numpy as np\n",
    "import pandas as pd\n",
    "from bs4 import BeautifulSoup\n",
    "import matplotlib.pyplot as plt\n",
    "import seaborn as sns\n",
    "import re\n",
    "%matplotlib inline\n",
    "import pandas as pd\n",
    "import numpy as np\n",
    "from matplotlib import pyplot as plt\n",
    "import seaborn as sns\n",
    "from sklearn import model_selection\n",
    "from sklearn.preprocessing import StandardScaler\n",
    "from sklearn.neighbors import KNeighborsClassifier\n",
    "from sklearn.metrics import accuracy_score, precision_score, recall_score\n",
    "from sklearn.tree import DecisionTreeClassifier\n",
    "from sklearn.tree import plot_tree\n",
    "import warnings\n",
    "from statsmodels.tsa.stattools import adfuller\n",
    "from statsmodels.tsa.api import VAR\n",
    "warnings.filterwarnings('ignore')"
   ]
  },
  {
   "cell_type": "markdown",
   "id": "2ef0a117",
   "metadata": {},
   "source": [
    "### Reading the necessary data."
   ]
  },
  {
   "cell_type": "code",
   "execution_count": null,
   "id": "5c251ae6",
   "metadata": {},
   "outputs": [],
   "source": [
    "#reading the total exports of commodities file.\n",
    "egc = pd.read_csv(\"C:/Users/pedro/Documents/GitHub/IronPoppyNevinAdley/exports.csv\")\n",
    "egc"
   ]
  },
  {
   "cell_type": "code",
   "execution_count": null,
   "id": "a41a467f",
   "metadata": {},
   "outputs": [],
   "source": [
    "#rename the year column.\n",
    "egc = egc.rename(columns={'Unnamed: 0':'year'})\n",
    "egc"
   ]
  },
  {
   "cell_type": "code",
   "execution_count": null,
   "id": "063ad5f6",
   "metadata": {},
   "outputs": [],
   "source": [
    "#reading the Cerrado deforestation file.\n",
    "dgc = pd.read_csv(\"C:/Users/pedro/Documents/GitHub/IronPoppyNevinAdley/deforestation_cerrado_t.csv\")\n",
    "dgc"
   ]
  },
  {
   "cell_type": "code",
   "execution_count": null,
   "id": "6beff00f",
   "metadata": {},
   "outputs": [],
   "source": [
    "#Drop column.\n",
    "dgc = dgc.drop(['Unnamed: 0'], axis = 1)\n",
    "dgc"
   ]
  },
  {
   "cell_type": "markdown",
   "id": "d43a87bc",
   "metadata": {},
   "source": [
    "### Merge"
   ]
  },
  {
   "cell_type": "code",
   "execution_count": null,
   "id": "f1306c4b",
   "metadata": {
    "scrolled": true
   },
   "outputs": [],
   "source": [
    "#merge the exportation with deforestation.\n",
    "gc = egc.merge(dgc,on='year')\n",
    "gc"
   ]
  },
  {
   "cell_type": "code",
   "execution_count": null,
   "id": "8a84439d",
   "metadata": {},
   "outputs": [],
   "source": [
    "#drop the initial years to help make the data stationary.\n",
    "gc = gc.drop(gc.index[[0, 1, 2, 3]])\n",
    "gc"
   ]
  },
  {
   "cell_type": "code",
   "execution_count": null,
   "id": "1e8c02a2",
   "metadata": {},
   "outputs": [],
   "source": [
    "#Standardize the names.\n",
    "gc.rename(columns={'Deforestation Cerrado':'Total Cerrado Deforestation'}, inplace=True)"
   ]
  },
  {
   "cell_type": "code",
   "execution_count": null,
   "id": "d21e44cf",
   "metadata": {},
   "outputs": [],
   "source": [
    "#create a new file out of the new table.\n",
    "gc.to_csv('FinalFinalgc.csv')"
   ]
  },
  {
   "cell_type": "code",
   "execution_count": null,
   "id": "686636e3",
   "metadata": {},
   "outputs": [],
   "source": [
    "#make the years as index\n",
    "gc = pd.read_csv(\"FinalFinalgc.csv\", index_col = 'year') \n",
    "gc"
   ]
  },
  {
   "cell_type": "code",
   "execution_count": null,
   "id": "7272186a",
   "metadata": {
    "scrolled": true
   },
   "outputs": [],
   "source": [
    "#drop unnecessary column\n",
    "gc = gc.drop(['Unnamed: 0'], axis=1)\n",
    "gc"
   ]
  },
  {
   "cell_type": "code",
   "execution_count": null,
   "id": "0554d4b6",
   "metadata": {},
   "outputs": [],
   "source": [
    "#use Logarithm transformation to push the data to be stationary and work with different unit measures.\n",
    "gc = np.log(gc)\n",
    "gc"
   ]
  },
  {
   "cell_type": "code",
   "execution_count": null,
   "id": "a45ffeb4",
   "metadata": {},
   "outputs": [],
   "source": [
    "# Plot\n",
    "fig, axes = plt.subplots(nrows=4, ncols=2, dpi=120, figsize=(20,15))\n",
    "for i, ax in enumerate(axes.flatten()):\n",
    "    data = gc[gc.columns[i]]\n",
    "    ax.plot(data, color='red', linewidth=1)\n",
    "    # Decorations\n",
    "    ax.set_title(gc.columns[i])\n",
    "    ax.xaxis.set_ticks_position('none')\n",
    "    ax.yaxis.set_ticks_position('none')\n",
    "    ax.spines[\"top\"].set_alpha(0)\n",
    "    ax.tick_params(labelsize=8)\n",
    "\n",
    "plt.tight_layout();"
   ]
  },
  {
   "cell_type": "markdown",
   "id": "c43880f7",
   "metadata": {},
   "source": [
    "### Granger Causality"
   ]
  },
  {
   "cell_type": "code",
   "execution_count": null,
   "id": "07a63023",
   "metadata": {},
   "outputs": [],
   "source": [
    "#Cross correlation between variables and deforestation, for one to three lags.\n",
    "def cross_correlation(X,Y,lag):\n",
    "    return X.corr(Y.shift(lag))\n",
    "[{j,l,cross_correlation(gc[f'{j}'],gc['Total Cerrado Deforestation'],l)} for l in range(3) for j in list(gc.columns)[:-1]]"
   ]
  },
  {
   "cell_type": "code",
   "execution_count": null,
   "id": "24bb7df6",
   "metadata": {},
   "outputs": [],
   "source": [
    "# Import Statsmodels\n",
    "from statsmodels.tsa.api import VAR\n",
    "from statsmodels.tsa.stattools import adfuller\n",
    "from statsmodels.tools.eval_measures import rmse, aic\n",
    "%matplotlib inline"
   ]
  },
  {
   "cell_type": "markdown",
   "id": "b62f1f15",
   "metadata": {},
   "source": [
    "fig, axes = plt.subplots(nrows=2, ncols=4, dpi=120, figsize=(15,12))\n",
    "for i, ax in enumerate(axes.flatten()):\n",
    "    data = gc[gc.columns[i]]\n",
    "    ax.plot(data, color='red', linewidth=1)\n",
    "    # Decorations\n",
    "    ax.set_title(gc.columns[i])\n",
    "    ax.xaxis.set_ticks_position('none')\n",
    "    ax.yaxis.set_ticks_position('none')\n",
    "    ax.spines[\"top\"].set_alpha(0)\n",
    "    ax.tick_params(labelsize=6)\n",
    "\n",
    "plt.tight_layout();"
   ]
  },
  {
   "cell_type": "code",
   "execution_count": null,
   "id": "932a92dd",
   "metadata": {
    "scrolled": true
   },
   "outputs": [],
   "source": [
    "from statsmodels.tsa.stattools import grangercausalitytests\n",
    "maxlag=4\n",
    "test = 'ssr_chi2test'\n",
    "def grangers_causation_matrix(data, variables, test='ssr_chi2test', verbose=False):    \n",
    "#Check Granger Causality of all possible combinations of the Time series.\n",
    "#The rows are the response variable, columns are predictors. The values in the table \n",
    "#are the P-Values. P-Values lesser than the significance level (0.05), implies \n",
    "#the Null Hypothesis that the coefficients of the corresponding past values is \n",
    "#zero, that is, the X does not cause Y can be rejected.\n",
    "\n",
    "#data      : pandas dataframe containing the time series variables\n",
    "#variables : list containing names of the time series variables.\n",
    "\n",
    "    gc = pd.DataFrame(np.zeros((len(variables), len(variables))), columns=variables, index=variables)\n",
    "    for c in gc.columns:\n",
    "        for r in gc.index:\n",
    "            test_result = grangercausalitytests(data[[r, c]], maxlag=maxlag, verbose=False)\n",
    "            p_values = [round(test_result[i+1][0][test][1],4) for i in range(maxlag)]\n",
    "            if verbose: print(f'Y = {r}, X = {c}, P Values = {p_values}')\n",
    "            min_p_value = np.min(p_values)\n",
    "            gc.loc[r, c] = min_p_value\n",
    "    gc.columns = [var + '_x' for var in variables]\n",
    "    gc.index = [var + '_y' for var in variables]\n",
    "    return gc\n",
    "\n",
    "grangers_causation_matrix(gc, variables = gc.columns)    "
   ]
  },
  {
   "cell_type": "code",
   "execution_count": null,
   "id": "f9e0d73d",
   "metadata": {},
   "outputs": [],
   "source": [
    "#rubber failed the granger causality.\n",
    "gc = gc.drop(['Total rubber exports', ], axis=1)"
   ]
  },
  {
   "cell_type": "code",
   "execution_count": null,
   "id": "c8e6a34f",
   "metadata": {},
   "outputs": [],
   "source": [
    "#checking the cointegration between variables.\n",
    "from statsmodels.tsa.vector_ar.vecm import coint_johansen\n",
    "\n",
    "def cointegration_test(gc, alpha=0.05): \n",
    "    \"\"\"Perform Johanson's Cointegration Test and Report Summary\"\"\"\n",
    "    out = coint_johansen(gc,-1,5)\n",
    "    d = {'0.90':0, '0.95':1, '0.99':2}\n",
    "    traces = out.lr1\n",
    "    cvts = out.cvt[:, d[str(1-alpha)]]\n",
    "\n",
    "    def adjust(val, length= 6): return str(val).ljust(length)\n",
    "\n",
    "    # Summary\n",
    "    print('Name   ::  Test Stat > C(95%)    =>   Signif  \\n', '--'*20)\n",
    "    for col, trace, cvt in zip(gc.columns, traces, cvts):\n",
    "        print(adjust(col), ':: ', adjust(round(trace,2), 9), \">\", adjust(cvt, 8), ' =>  ' , trace > cvt)\n",
    "\n",
    "cointegration_test(gc)\n",
    "\n"
   ]
  },
  {
   "cell_type": "code",
   "execution_count": null,
   "id": "ffbf530b",
   "metadata": {},
   "outputs": [],
   "source": [
    "#Defining the train and test set.\n",
    "nobs = 2\n",
    "gc_train, gc_test = gc[0:-nobs], gc[-nobs:]\n",
    "\n",
    "#Check size\n",
    "print(gc_train.shape)  # (119, 8)\n",
    "print(gc_test.shape)  # (4, 8)"
   ]
  },
  {
   "cell_type": "code",
   "execution_count": null,
   "id": "98820498",
   "metadata": {},
   "outputs": [],
   "source": [
    "#Use the Augumented Dickey-Fuller test to check if the time series are stationary.\n",
    "def adfuller_test(series, signif=0.05, name='', verbose=False):\n",
    "    \"\"\"Perform ADFuller to test for Stationarity of given series and print report\"\"\"\n",
    "    r = adfuller(series, autolag='AIC')\n",
    "    output = {'test_statistic':round(r[0], 4), 'pvalue':round(r[1], 4), 'n_lags':round(r[2], 4), 'n_obs':r[3]}\n",
    "    p_value = output['pvalue'] \n",
    "    def adjust(val, length= 6): return str(val).ljust(length)\n",
    "\n",
    "    # Print Summary\n",
    "    print(f'    Augmented Dickey-Fuller Test on \"{name}\"', \"\\n   \", '-'*47)\n",
    "    print(f' Null Hypothesis: Data has unit root. Non-Stationary.')\n",
    "    print(f' Significance Level    = {signif}')\n",
    "    print(f' Test Statistic        = {output[\"test_statistic\"]}')\n",
    "    print(f' No. Lags Chosen       = {output[\"n_lags\"]}')\n",
    "\n",
    "    for key,val in r[4].items():\n",
    "        print(f' Critical value {adjust(key)} = {round(val, 3)}')\n",
    "\n",
    "    if p_value <= signif:\n",
    "        print(f\" => P-Value = {p_value}. Rejecting Null Hypothesis.\")\n",
    "        print(f\" => Series is Stationary.\")\n",
    "    else:\n",
    "        print(f\" => P-Value = {p_value}. Weak evidence to reject the Null Hypothesis.\")\n",
    "        print(f\" => Series is Non-Stationary.\")    "
   ]
  },
  {
   "cell_type": "code",
   "execution_count": null,
   "id": "0acdb051",
   "metadata": {},
   "outputs": [],
   "source": [
    "#ADF Test on each column\n",
    "for name, column in gc_train.items():\n",
    "    adfuller_test(column, name=column.name)\n",
    "    print('\\n')"
   ]
  },
  {
   "cell_type": "code",
   "execution_count": null,
   "id": "a5ef6f0b",
   "metadata": {},
   "outputs": [],
   "source": [
    "#1st difference\n",
    "gc_differenced = gc_train.diff().dropna()"
   ]
  },
  {
   "cell_type": "code",
   "execution_count": null,
   "id": "6429cdb2",
   "metadata": {},
   "outputs": [],
   "source": [
    "#ADF Test on each column of 1st Differences Dataframe\n",
    "for name, column in gc_differenced.items():\n",
    "    adfuller_test(column, name=column.name)\n",
    "    print('\\n')"
   ]
  },
  {
   "cell_type": "code",
   "execution_count": null,
   "id": "bc226507",
   "metadata": {},
   "outputs": [],
   "source": [
    "#Second difference.\n",
    "gc_differenced = gc_differenced.diff().dropna()"
   ]
  },
  {
   "cell_type": "code",
   "execution_count": null,
   "id": "c8c6ca36",
   "metadata": {},
   "outputs": [],
   "source": [
    "#ADF Test on each column of second Differences Dataframe\n",
    "for name, column in gc_differenced.items():\n",
    "    adfuller_test(column, name=column.name)\n",
    "    print('\\n')"
   ]
  },
  {
   "cell_type": "code",
   "execution_count": null,
   "id": "d133a21d",
   "metadata": {},
   "outputs": [],
   "source": [
    "gc_differenced"
   ]
  },
  {
   "cell_type": "code",
   "execution_count": null,
   "id": "8cc3213c",
   "metadata": {
    "scrolled": true
   },
   "outputs": [],
   "source": [
    "#training the model with different lags. At lag 1 the array is not positive definite.\n",
    "model = VAR(gc_differenced)\n",
    "for i in [2, 3, 4, 5]:\n",
    "    result = model.fit(i)\n",
    "    print('Lag Order =', i)\n",
    "    print('AIC : ', result.aic)\n",
    "    print('BIC : ', result.bic)\n",
    "    print('FPE : ', result.fpe)\n",
    "    print('HQIC: ', result.hqic, '\\n')"
   ]
  },
  {
   "cell_type": "code",
   "execution_count": null,
   "id": "52be7bf0",
   "metadata": {},
   "outputs": [],
   "source": [
    "#Train the VAR model with lags 4.\n",
    "model_fitted = model.fit(3)\n",
    "model_fitted.summary()"
   ]
  },
  {
   "cell_type": "code",
   "execution_count": null,
   "id": "f7619afb",
   "metadata": {
    "scrolled": true
   },
   "outputs": [],
   "source": [
    "#Use the Durbin Watson to check the Autocorrelation of the residuals of the time series.It made me change the Lags to 4.\n",
    "from statsmodels.stats.stattools import durbin_watson\n",
    "out = durbin_watson(model_fitted.resid)\n",
    "def adjust(val, length= 6): return str(val).ljust(length)\n",
    "\n",
    "for col, val in zip(gc_differenced.columns, out):\n",
    "    print(adjust(col), ':', round(val, 2))"
   ]
  },
  {
   "cell_type": "code",
   "execution_count": null,
   "id": "ce6f5065",
   "metadata": {},
   "outputs": [],
   "source": [
    "#Get the lag order\n",
    "lag_order = model_fitted.k_ar\n",
    "print(lag_order)  #\n",
    "\n",
    "#Input data for forecasting\n",
    "forecast_input = gc_differenced.values[-lag_order:]\n",
    "forecast_input"
   ]
  },
  {
   "cell_type": "code",
   "execution_count": null,
   "id": "3a2a5b2d",
   "metadata": {},
   "outputs": [],
   "source": [
    "#Forecast the next two years and print them.\n",
    "fc = model_fitted.forecast(y=forecast_input, steps=nobs)\n",
    "gc_forecast = pd.DataFrame(fc, index=gc.index[-nobs:], columns=gc.columns + '_2d')\n",
    "gc_forecast"
   ]
  },
  {
   "cell_type": "code",
   "execution_count": null,
   "id": "b262f61a",
   "metadata": {},
   "outputs": [],
   "source": [
    "#Reverting the two differences.\n",
    "def invert_transformation(gc_train, gc_forecast, second_diff=True):\n",
    "    \"\"\"Revert back the differencing to get the forecast to original scale.\"\"\"\n",
    "    gc_fc = gc_forecast.copy()\n",
    "    columns = gc_train.columns\n",
    "    for col in columns:        \n",
    "        # Roll back 2nd Diff\n",
    "        if second_diff:\n",
    "            gc_fc[str(col)+'_1d'] = (gc_train[col].iloc[-1]-gc_train[col].iloc[-2]) + gc_fc[str(col)+'_2d'].cumsum()\n",
    "        # Roll back 1st Diff\n",
    "        gc_fc[str(col)+'_forecast'] = gc_train[col].iloc[-1] + gc_fc[str(col)+'_1d'].cumsum()\n",
    "    return gc_fc"
   ]
  },
  {
   "cell_type": "code",
   "execution_count": null,
   "id": "f2b55958",
   "metadata": {},
   "outputs": [],
   "source": [
    "#getting the forecasting result.\n",
    "gc_results = invert_transformation(gc_train, gc_forecast)        \n",
    "gc_results.loc[:, ['Total cattle and meat exports_forecast', 'Total wood exports_forecast', 'Total soy exports_forecast', 'Total coffee exports_forecast', 'Total Cerrado Deforestation_forecast']]"
   ]
  },
  {
   "cell_type": "code",
   "execution_count": null,
   "id": "81df156e",
   "metadata": {},
   "outputs": [],
   "source": [
    "gc"
   ]
  },
  {
   "cell_type": "code",
   "execution_count": null,
   "id": "2eb969ca",
   "metadata": {},
   "outputs": [],
   "source": [
    "#Comparing in a chart the forecast result with the actual value \n",
    "fig, axes = plt.subplots(nrows=int(len(gc.columns)/2), ncols=3, dpi=150, figsize=(10,10))\n",
    "for i, (col,ax) in enumerate(zip(gc.columns, axes.flatten())):\n",
    "    gc_results[col+'_forecast'].plot(legend=True, ax=ax).autoscale(axis='x',tight=True)\n",
    "    gc_test[col][-nobs:].plot(legend=True, ax=ax, kind='line');\n",
    "    ax.set_title(col + \": Forecast vs Actuals\")\n",
    "    ax.xaxis.set_ticks_position('none')\n",
    "    ax.yaxis.set_ticks_position('none')\n",
    "    ax.spines[\"top\"].set_alpha(0)\n",
    "    ax.tick_params(labelsize=6)\n",
    "\n",
    "plt.tight_layout();"
   ]
  },
  {
   "cell_type": "code",
   "execution_count": null,
   "id": "0a6419d7",
   "metadata": {},
   "outputs": [],
   "source": [
    "#Checking the accurace of the model.\n",
    "from statsmodels.tsa.stattools import acf\n",
    "def forecast_accuracy(forecast, actual):\n",
    "    mape = np.mean(np.abs(forecast - actual)/np.abs(actual))  # MAPE\n",
    "    me = np.mean(forecast - actual)             # ME\n",
    "    mae = np.mean(np.abs(forecast - actual))    # MAE\n",
    "    mpe = np.mean((forecast - actual)/actual)   # MPE\n",
    "    rmse = np.mean((forecast - actual)**2)**.5  # RMSE\n",
    "    corr = np.corrcoef(forecast, actual)[0,1]   # corr\n",
    "    mins = np.amin(np.hstack([forecast[:,None], \n",
    "                              actual[:,None]]), axis=1)\n",
    "    maxs = np.amax(np.hstack([forecast[:,None], \n",
    "                              actual[:,None]]), axis=1)\n",
    "    minmax = 1 - np.mean(mins/maxs)             # minmax\n",
    "    return({'mape':mape, 'me':me, 'mae': mae, \n",
    "            'mpe': mpe, 'rmse':rmse, 'corr':corr, 'minmax':minmax})\n",
    "\n",
    "print('Forecast Accuracy of: Total cattle and meat exports')\n",
    "accuracy_prod = forecast_accuracy(gc_results['Total cattle and meat exports_forecast'].to_numpy(), gc_test['Total cattle and meat exports'].to_numpy())\n",
    "for k, v in accuracy_prod.items():\n",
    "    print(adjust(k), ': ', round(v,4))\n",
    "\n",
    "print('\\nForecast Accuracy of: Total wood exports')\n",
    "accuracy_prod = forecast_accuracy(gc_results['Total wood exports_forecast'].to_numpy(), gc_test['Total wood exports'].to_numpy())\n",
    "for k, v in accuracy_prod.items():\n",
    "    print(adjust(k), ': ', round(v,4))\n",
    "\n",
    "print('\\nForecast Accuracy of: Total soy exports')\n",
    "accuracy_prod = forecast_accuracy(gc_results['Total soy exports_forecast'].to_numpy(), gc_test['Total soy exports'].to_numpy())\n",
    "for k, v in accuracy_prod.items():\n",
    "    print(adjust(k), ': ', round(v,4))\n",
    "\n",
    "print('\\nForecast Accuracy of: Total Cerrado Deforestation')\n",
    "accuracy_prod = forecast_accuracy(gc_results['Total Cerrado Deforestation_forecast'].to_numpy(), gc_test['Total Cerrado Deforestation'].to_numpy())\n",
    "for k, v in accuracy_prod.items():\n",
    "    print(adjust(k), ': ', round(v,4))"
   ]
  },
  {
   "cell_type": "markdown",
   "id": "7f429a5c",
   "metadata": {},
   "source": [
    "### Forecasting the future"
   ]
  },
  {
   "cell_type": "code",
   "execution_count": null,
   "id": "33527bfd",
   "metadata": {},
   "outputs": [],
   "source": [
    "#Bringing in the original values"
   ]
  },
  {
   "cell_type": "code",
   "execution_count": null,
   "id": "ddeec681",
   "metadata": {},
   "outputs": [],
   "source": [
    "#making the differencing of the whole table.\n",
    "gc_all_diff = gc.diff().dropna()"
   ]
  },
  {
   "cell_type": "code",
   "execution_count": null,
   "id": "1fe1e3dd",
   "metadata": {},
   "outputs": [],
   "source": [
    "#second differencing.\n",
    "gc_all_diff = gc_all_diff.diff().dropna()\n",
    "gc_all_diff"
   ]
  },
  {
   "cell_type": "code",
   "execution_count": null,
   "id": "e5295889",
   "metadata": {},
   "outputs": [],
   "source": [
    "#gettig the last year\n",
    "model_fitted = model.fit(1)\n",
    "model = VAR(gc_all_diff)\n",
    "lag_order = model_fitted.k_ar\n",
    "\n",
    "#Input data for forecasting\n",
    "forecast_input_all = gc_all_diff.values[-lag_order:]\n",
    "forecast_input_all"
   ]
  },
  {
   "cell_type": "code",
   "execution_count": null,
   "id": "71197972",
   "metadata": {},
   "outputs": [],
   "source": [
    "#make the prediction for the next three years\n",
    "prediction = model_fitted.forecast(y=forecast_input_all, steps=3)"
   ]
  },
  {
   "cell_type": "code",
   "execution_count": null,
   "id": "5e601144",
   "metadata": {},
   "outputs": [],
   "source": [
    "#Checking the results.\n",
    "prediction = pd.DataFrame(prediction, columns=gc_all_diff.columns + '_2d')\n",
    "prediction = prediction.rename(index={0:2023, 1:2024, 2:2025})\n",
    "prediction"
   ]
  },
  {
   "cell_type": "code",
   "execution_count": null,
   "id": "a96dbc42",
   "metadata": {},
   "outputs": [],
   "source": [
    "#Reversing the differencing.\n",
    "gc_predicted = invert_transformation(gc, prediction) \n",
    "gc_predicted = gc_predicted.loc[:, ['Total cattle and meat exports_forecast', 'Total wood exports_forecast', 'Total soy exports_forecast','Total coffee exports_forecast', 'Total Cerrado Deforestation_forecast']]\n",
    "gc_predicted"
   ]
  },
  {
   "cell_type": "code",
   "execution_count": null,
   "id": "b0bb72ab",
   "metadata": {},
   "outputs": [],
   "source": [
    "#standardizing the column names.\n",
    "gc_predicted = gc_predicted.rename(columns={'Total cattle and meat exports_forecast':'Total cattle and meat exports', 'Total wood exports_forecast': 'Total wood exports', 'Total soy exports_forecast':'Total soy exports','Total coffee exports_forecast':'Total coffee exports', 'Total Cerrado Deforestation_forecast':'Total Cerrado Deforestation'})"
   ]
  },
  {
   "cell_type": "code",
   "execution_count": null,
   "outputs": [],
   "source": [
    "gc_predicted"
   ],
   "metadata": {
    "collapsed": false
   }
  },
  {
   "cell_type": "code",
   "execution_count": null,
   "id": "889a36e3",
   "metadata": {},
   "outputs": [],
   "source": [
    "#Reversing the Log from the prediction.\n",
    "gc_predicted = np.exp(gc_predicted)"
   ]
  },
  {
   "cell_type": "code",
   "execution_count": null,
   "id": "1974c5d5",
   "metadata": {},
   "outputs": [],
   "source": [
    "#Reversing the Log from the DataFrame.\n",
    "gc_all_new = np.exp(gc)"
   ]
  },
  {
   "cell_type": "code",
   "execution_count": 58,
   "outputs": [],
   "source": [
    "gc_all_new = gc_all_new.drop(columns='Total cocoa exports')"
   ],
   "metadata": {
    "collapsed": false,
    "ExecuteTime": {
     "end_time": "2023-07-12T15:00:28.370041Z",
     "start_time": "2023-07-12T15:00:28.344889300Z"
    }
   }
  },
  {
   "cell_type": "code",
   "execution_count": 59,
   "id": "4f2c46eb",
   "metadata": {
    "ExecuteTime": {
     "end_time": "2023-07-12T15:00:31.271522600Z",
     "start_time": "2023-07-12T15:00:31.246176400Z"
    }
   },
   "outputs": [],
   "source": [
    "#Concatenating prediction and table.\n",
    "final = pd.concat([gc_all_new, gc_predicted], axis=0)"
   ]
  },
  {
   "cell_type": "code",
   "execution_count": 60,
   "id": "dae5561d",
   "metadata": {
    "ExecuteTime": {
     "end_time": "2023-07-12T15:00:33.056213200Z",
     "start_time": "2023-07-12T15:00:33.031341500Z"
    }
   },
   "outputs": [
    {
     "data": {
      "text/plain": "      Total cattle and meat exports  Total wood exports  Total soy exports  \\\n2005                   3.472239e+08        1.510530e+09       1.057810e+10   \n2006                   4.021849e+08        1.485338e+09       1.023524e+10   \n2007                   2.989044e+08        1.703562e+09       9.566551e+09   \n2008                   1.312445e+08        1.289001e+09       8.905837e+09   \n2009                   1.418567e+08        7.933405e+08       8.209373e+09   \n2010                   1.576769e+08        8.392297e+08       5.382201e+09   \n2011                   1.496994e+08        6.883544e+08       5.039373e+09   \n2012                   1.655764e+08        5.386584e+08       4.905662e+09   \n2013                   2.048152e+08        6.024996e+08       4.712690e+09   \n2014                   1.685335e+08        7.284682e+08       5.840593e+09   \n2015                   1.755994e+08        7.329162e+08       5.249220e+09   \n2016                   1.833183e+08        8.243693e+08       4.886707e+09   \n2017                   1.978541e+08        7.842711e+08       4.547702e+09   \n2018                   2.058099e+08        1.174467e+09       4.699354e+09   \n2019                   1.994386e+08        1.151355e+09       4.793450e+09   \n2020                   1.835215e+08        1.276985e+09       7.725975e+09   \n2021                   1.616314e+08        1.887586e+09       8.421310e+09   \n2022                   1.646538e+08        2.789084e+09       7.119229e+09   \n2023                   1.607533e+08        4.218330e+09       7.680332e+09   \n2024                   1.529941e+08        6.575989e+09       7.213075e+09   \n2025                   1.473129e+08        1.002909e+10       8.169853e+09   \n\n      Total coffee exports  Total Cerrado Deforestation  \n2005          8.053419e+08                 16763.469800  \n2006          8.820798e+08                 16763.469800  \n2007          8.852683e+08                 13236.536323  \n2008          9.608392e+08                 13236.536323  \n2009          9.240666e+08                  9854.539473  \n2010          9.832631e+08                  9854.539473  \n2011          9.377824e+08                  8975.341458  \n2012          7.948685e+08                  8975.341458  \n2013          8.894710e+08                 13311.985692  \n2014          1.054021e+09                 10713.974121  \n2015          9.947001e+08                 11128.224358  \n2016          9.608035e+08                  7203.916410  \n2017          8.474014e+08                  7115.333111  \n2018          9.234414e+08                  7061.731262  \n2019          1.091172e+09                  6314.764680  \n2020          1.160075e+09                  7592.580041  \n2021          1.050041e+09                  8339.261430  \n2022          1.075145e+09                 10445.067067  \n2023          1.041726e+09                 11012.915602  \n2024          1.068549e+09                 14360.030698  \n2025          1.098320e+09                 15834.322326  ",
      "text/html": "<div>\n<style scoped>\n    .dataframe tbody tr th:only-of-type {\n        vertical-align: middle;\n    }\n\n    .dataframe tbody tr th {\n        vertical-align: top;\n    }\n\n    .dataframe thead th {\n        text-align: right;\n    }\n</style>\n<table border=\"1\" class=\"dataframe\">\n  <thead>\n    <tr style=\"text-align: right;\">\n      <th></th>\n      <th>Total cattle and meat exports</th>\n      <th>Total wood exports</th>\n      <th>Total soy exports</th>\n      <th>Total coffee exports</th>\n      <th>Total Cerrado Deforestation</th>\n    </tr>\n  </thead>\n  <tbody>\n    <tr>\n      <th>2005</th>\n      <td>3.472239e+08</td>\n      <td>1.510530e+09</td>\n      <td>1.057810e+10</td>\n      <td>8.053419e+08</td>\n      <td>16763.469800</td>\n    </tr>\n    <tr>\n      <th>2006</th>\n      <td>4.021849e+08</td>\n      <td>1.485338e+09</td>\n      <td>1.023524e+10</td>\n      <td>8.820798e+08</td>\n      <td>16763.469800</td>\n    </tr>\n    <tr>\n      <th>2007</th>\n      <td>2.989044e+08</td>\n      <td>1.703562e+09</td>\n      <td>9.566551e+09</td>\n      <td>8.852683e+08</td>\n      <td>13236.536323</td>\n    </tr>\n    <tr>\n      <th>2008</th>\n      <td>1.312445e+08</td>\n      <td>1.289001e+09</td>\n      <td>8.905837e+09</td>\n      <td>9.608392e+08</td>\n      <td>13236.536323</td>\n    </tr>\n    <tr>\n      <th>2009</th>\n      <td>1.418567e+08</td>\n      <td>7.933405e+08</td>\n      <td>8.209373e+09</td>\n      <td>9.240666e+08</td>\n      <td>9854.539473</td>\n    </tr>\n    <tr>\n      <th>2010</th>\n      <td>1.576769e+08</td>\n      <td>8.392297e+08</td>\n      <td>5.382201e+09</td>\n      <td>9.832631e+08</td>\n      <td>9854.539473</td>\n    </tr>\n    <tr>\n      <th>2011</th>\n      <td>1.496994e+08</td>\n      <td>6.883544e+08</td>\n      <td>5.039373e+09</td>\n      <td>9.377824e+08</td>\n      <td>8975.341458</td>\n    </tr>\n    <tr>\n      <th>2012</th>\n      <td>1.655764e+08</td>\n      <td>5.386584e+08</td>\n      <td>4.905662e+09</td>\n      <td>7.948685e+08</td>\n      <td>8975.341458</td>\n    </tr>\n    <tr>\n      <th>2013</th>\n      <td>2.048152e+08</td>\n      <td>6.024996e+08</td>\n      <td>4.712690e+09</td>\n      <td>8.894710e+08</td>\n      <td>13311.985692</td>\n    </tr>\n    <tr>\n      <th>2014</th>\n      <td>1.685335e+08</td>\n      <td>7.284682e+08</td>\n      <td>5.840593e+09</td>\n      <td>1.054021e+09</td>\n      <td>10713.974121</td>\n    </tr>\n    <tr>\n      <th>2015</th>\n      <td>1.755994e+08</td>\n      <td>7.329162e+08</td>\n      <td>5.249220e+09</td>\n      <td>9.947001e+08</td>\n      <td>11128.224358</td>\n    </tr>\n    <tr>\n      <th>2016</th>\n      <td>1.833183e+08</td>\n      <td>8.243693e+08</td>\n      <td>4.886707e+09</td>\n      <td>9.608035e+08</td>\n      <td>7203.916410</td>\n    </tr>\n    <tr>\n      <th>2017</th>\n      <td>1.978541e+08</td>\n      <td>7.842711e+08</td>\n      <td>4.547702e+09</td>\n      <td>8.474014e+08</td>\n      <td>7115.333111</td>\n    </tr>\n    <tr>\n      <th>2018</th>\n      <td>2.058099e+08</td>\n      <td>1.174467e+09</td>\n      <td>4.699354e+09</td>\n      <td>9.234414e+08</td>\n      <td>7061.731262</td>\n    </tr>\n    <tr>\n      <th>2019</th>\n      <td>1.994386e+08</td>\n      <td>1.151355e+09</td>\n      <td>4.793450e+09</td>\n      <td>1.091172e+09</td>\n      <td>6314.764680</td>\n    </tr>\n    <tr>\n      <th>2020</th>\n      <td>1.835215e+08</td>\n      <td>1.276985e+09</td>\n      <td>7.725975e+09</td>\n      <td>1.160075e+09</td>\n      <td>7592.580041</td>\n    </tr>\n    <tr>\n      <th>2021</th>\n      <td>1.616314e+08</td>\n      <td>1.887586e+09</td>\n      <td>8.421310e+09</td>\n      <td>1.050041e+09</td>\n      <td>8339.261430</td>\n    </tr>\n    <tr>\n      <th>2022</th>\n      <td>1.646538e+08</td>\n      <td>2.789084e+09</td>\n      <td>7.119229e+09</td>\n      <td>1.075145e+09</td>\n      <td>10445.067067</td>\n    </tr>\n    <tr>\n      <th>2023</th>\n      <td>1.607533e+08</td>\n      <td>4.218330e+09</td>\n      <td>7.680332e+09</td>\n      <td>1.041726e+09</td>\n      <td>11012.915602</td>\n    </tr>\n    <tr>\n      <th>2024</th>\n      <td>1.529941e+08</td>\n      <td>6.575989e+09</td>\n      <td>7.213075e+09</td>\n      <td>1.068549e+09</td>\n      <td>14360.030698</td>\n    </tr>\n    <tr>\n      <th>2025</th>\n      <td>1.473129e+08</td>\n      <td>1.002909e+10</td>\n      <td>8.169853e+09</td>\n      <td>1.098320e+09</td>\n      <td>15834.322326</td>\n    </tr>\n  </tbody>\n</table>\n</div>"
     },
     "execution_count": 60,
     "metadata": {},
     "output_type": "execute_result"
    }
   ],
   "source": [
    "final"
   ]
  },
  {
   "cell_type": "code",
   "execution_count": 61,
   "id": "85098e4d",
   "metadata": {
    "ExecuteTime": {
     "end_time": "2023-07-12T15:00:38.891821700Z",
     "start_time": "2023-07-12T15:00:38.256035400Z"
    }
   },
   "outputs": [
    {
     "data": {
      "text/plain": "<Figure size 640x480 with 1 Axes>",
      "image/png": "[encoded data removed]"
     },
     "metadata": {},
     "output_type": "display_data"
    }
   ],
   "source": [
    "final['Total Cerrado Deforestation'].plot()\n",
    "plt.show()"
   ]
  },
  {
   "cell_type": "code",
   "execution_count": 62,
   "id": "bba60c80",
   "metadata": {
    "ExecuteTime": {
     "end_time": "2023-07-12T15:00:42.150950100Z",
     "start_time": "2023-07-12T15:00:42.112588100Z"
    }
   },
   "outputs": [
    {
     "data": {
      "text/plain": "    Years  Total cattle and meat exports  Total wood exports  \\\n0    2005                   3.472239e+08        1.510530e+09   \n1    2006                   4.021849e+08        1.485338e+09   \n2    2007                   2.989044e+08        1.703562e+09   \n3    2008                   1.312445e+08        1.289001e+09   \n4    2009                   1.418567e+08        7.933405e+08   \n5    2010                   1.576769e+08        8.392297e+08   \n6    2011                   1.496994e+08        6.883544e+08   \n7    2012                   1.655764e+08        5.386584e+08   \n8    2013                   2.048152e+08        6.024996e+08   \n9    2014                   1.685335e+08        7.284682e+08   \n10   2015                   1.755994e+08        7.329162e+08   \n11   2016                   1.833183e+08        8.243693e+08   \n12   2017                   1.978541e+08        7.842711e+08   \n13   2018                   2.058099e+08        1.174467e+09   \n14   2019                   1.994386e+08        1.151355e+09   \n15   2020                   1.835215e+08        1.276985e+09   \n16   2021                   1.616314e+08        1.887586e+09   \n17   2022                   1.646538e+08        2.789084e+09   \n18   2023                   1.607533e+08        4.218330e+09   \n19   2024                   1.529941e+08        6.575989e+09   \n20   2025                   1.473129e+08        1.002909e+10   \n\n    Total soy exports  Total coffee exports  Total Cerrado Deforestation  \n0        1.057810e+10          8.053419e+08                 16763.469800  \n1        1.023524e+10          8.820798e+08                 16763.469800  \n2        9.566551e+09          8.852683e+08                 13236.536323  \n3        8.905837e+09          9.608392e+08                 13236.536323  \n4        8.209373e+09          9.240666e+08                  9854.539473  \n5        5.382201e+09          9.832631e+08                  9854.539473  \n6        5.039373e+09          9.377824e+08                  8975.341458  \n7        4.905662e+09          7.948685e+08                  8975.341458  \n8        4.712690e+09          8.894710e+08                 13311.985692  \n9        5.840593e+09          1.054021e+09                 10713.974121  \n10       5.249220e+09          9.947001e+08                 11128.224358  \n11       4.886707e+09          9.608035e+08                  7203.916410  \n12       4.547702e+09          8.474014e+08                  7115.333111  \n13       4.699354e+09          9.234414e+08                  7061.731262  \n14       4.793450e+09          1.091172e+09                  6314.764680  \n15       7.725975e+09          1.160075e+09                  7592.580041  \n16       8.421310e+09          1.050041e+09                  8339.261430  \n17       7.119229e+09          1.075145e+09                 10445.067067  \n18       7.680332e+09          1.041726e+09                 11012.915602  \n19       7.213075e+09          1.068549e+09                 14360.030698  \n20       8.169853e+09          1.098320e+09                 15834.322326  ",
      "text/html": "<div>\n<style scoped>\n    .dataframe tbody tr th:only-of-type {\n        vertical-align: middle;\n    }\n\n    .dataframe tbody tr th {\n        vertical-align: top;\n    }\n\n    .dataframe thead th {\n        text-align: right;\n    }\n</style>\n<table border=\"1\" class=\"dataframe\">\n  <thead>\n    <tr style=\"text-align: right;\">\n      <th></th>\n      <th>Years</th>\n      <th>Total cattle and meat exports</th>\n      <th>Total wood exports</th>\n      <th>Total soy exports</th>\n      <th>Total coffee exports</th>\n      <th>Total Cerrado Deforestation</th>\n    </tr>\n  </thead>\n  <tbody>\n    <tr>\n      <th>0</th>\n      <td>2005</td>\n      <td>3.472239e+08</td>\n      <td>1.510530e+09</td>\n      <td>1.057810e+10</td>\n      <td>8.053419e+08</td>\n      <td>16763.469800</td>\n    </tr>\n    <tr>\n      <th>1</th>\n      <td>2006</td>\n      <td>4.021849e+08</td>\n      <td>1.485338e+09</td>\n      <td>1.023524e+10</td>\n      <td>8.820798e+08</td>\n      <td>16763.469800</td>\n    </tr>\n    <tr>\n      <th>2</th>\n      <td>2007</td>\n      <td>2.989044e+08</td>\n      <td>1.703562e+09</td>\n      <td>9.566551e+09</td>\n      <td>8.852683e+08</td>\n      <td>13236.536323</td>\n    </tr>\n    <tr>\n      <th>3</th>\n      <td>2008</td>\n      <td>1.312445e+08</td>\n      <td>1.289001e+09</td>\n      <td>8.905837e+09</td>\n      <td>9.608392e+08</td>\n      <td>13236.536323</td>\n    </tr>\n    <tr>\n      <th>4</th>\n      <td>2009</td>\n      <td>1.418567e+08</td>\n      <td>7.933405e+08</td>\n      <td>8.209373e+09</td>\n      <td>9.240666e+08</td>\n      <td>9854.539473</td>\n    </tr>\n    <tr>\n      <th>5</th>\n      <td>2010</td>\n      <td>1.576769e+08</td>\n      <td>8.392297e+08</td>\n      <td>5.382201e+09</td>\n      <td>9.832631e+08</td>\n      <td>9854.539473</td>\n    </tr>\n    <tr>\n      <th>6</th>\n      <td>2011</td>\n      <td>1.496994e+08</td>\n      <td>6.883544e+08</td>\n      <td>5.039373e+09</td>\n      <td>9.377824e+08</td>\n      <td>8975.341458</td>\n    </tr>\n    <tr>\n      <th>7</th>\n      <td>2012</td>\n      <td>1.655764e+08</td>\n      <td>5.386584e+08</td>\n      <td>4.905662e+09</td>\n      <td>7.948685e+08</td>\n      <td>8975.341458</td>\n    </tr>\n    <tr>\n      <th>8</th>\n      <td>2013</td>\n      <td>2.048152e+08</td>\n      <td>6.024996e+08</td>\n      <td>4.712690e+09</td>\n      <td>8.894710e+08</td>\n      <td>13311.985692</td>\n    </tr>\n    <tr>\n      <th>9</th>\n      <td>2014</td>\n      <td>1.685335e+08</td>\n      <td>7.284682e+08</td>\n      <td>5.840593e+09</td>\n      <td>1.054021e+09</td>\n      <td>10713.974121</td>\n    </tr>\n    <tr>\n      <th>10</th>\n      <td>2015</td>\n      <td>1.755994e+08</td>\n      <td>7.329162e+08</td>\n      <td>5.249220e+09</td>\n      <td>9.947001e+08</td>\n      <td>11128.224358</td>\n    </tr>\n    <tr>\n      <th>11</th>\n      <td>2016</td>\n      <td>1.833183e+08</td>\n      <td>8.243693e+08</td>\n      <td>4.886707e+09</td>\n      <td>9.608035e+08</td>\n      <td>7203.916410</td>\n    </tr>\n    <tr>\n      <th>12</th>\n      <td>2017</td>\n      <td>1.978541e+08</td>\n      <td>7.842711e+08</td>\n      <td>4.547702e+09</td>\n      <td>8.474014e+08</td>\n      <td>7115.333111</td>\n    </tr>\n    <tr>\n      <th>13</th>\n      <td>2018</td>\n      <td>2.058099e+08</td>\n      <td>1.174467e+09</td>\n      <td>4.699354e+09</td>\n      <td>9.234414e+08</td>\n      <td>7061.731262</td>\n    </tr>\n    <tr>\n      <th>14</th>\n      <td>2019</td>\n      <td>1.994386e+08</td>\n      <td>1.151355e+09</td>\n      <td>4.793450e+09</td>\n      <td>1.091172e+09</td>\n      <td>6314.764680</td>\n    </tr>\n    <tr>\n      <th>15</th>\n      <td>2020</td>\n      <td>1.835215e+08</td>\n      <td>1.276985e+09</td>\n      <td>7.725975e+09</td>\n      <td>1.160075e+09</td>\n      <td>7592.580041</td>\n    </tr>\n    <tr>\n      <th>16</th>\n      <td>2021</td>\n      <td>1.616314e+08</td>\n      <td>1.887586e+09</td>\n      <td>8.421310e+09</td>\n      <td>1.050041e+09</td>\n      <td>8339.261430</td>\n    </tr>\n    <tr>\n      <th>17</th>\n      <td>2022</td>\n      <td>1.646538e+08</td>\n      <td>2.789084e+09</td>\n      <td>7.119229e+09</td>\n      <td>1.075145e+09</td>\n      <td>10445.067067</td>\n    </tr>\n    <tr>\n      <th>18</th>\n      <td>2023</td>\n      <td>1.607533e+08</td>\n      <td>4.218330e+09</td>\n      <td>7.680332e+09</td>\n      <td>1.041726e+09</td>\n      <td>11012.915602</td>\n    </tr>\n    <tr>\n      <th>19</th>\n      <td>2024</td>\n      <td>1.529941e+08</td>\n      <td>6.575989e+09</td>\n      <td>7.213075e+09</td>\n      <td>1.068549e+09</td>\n      <td>14360.030698</td>\n    </tr>\n    <tr>\n      <th>20</th>\n      <td>2025</td>\n      <td>1.473129e+08</td>\n      <td>1.002909e+10</td>\n      <td>8.169853e+09</td>\n      <td>1.098320e+09</td>\n      <td>15834.322326</td>\n    </tr>\n  </tbody>\n</table>\n</div>"
     },
     "execution_count": 62,
     "metadata": {},
     "output_type": "execute_result"
    }
   ],
   "source": [
    "final = final.reset_index(names='Years')\n",
    "final"
   ]
  },
  {
   "cell_type": "code",
   "execution_count": 63,
   "id": "88468f48",
   "metadata": {
    "ExecuteTime": {
     "end_time": "2023-07-12T15:00:44.884733200Z",
     "start_time": "2023-07-12T15:00:44.863194600Z"
    }
   },
   "outputs": [],
   "source": [
    "final.to_csv('deforestation_predicted.csv')"
   ]
  }
 ],
 "metadata": {
  "kernelspec": {
   "display_name": "Python 3 (ipykernel)",
   "language": "python",
   "name": "python3"
  },
  "language_info": {
   "codemirror_mode": {
    "name": "ipython",
    "version": 3
   },
   "file_extension": ".py",
   "mimetype": "text/x-python",
   "name": "python",
   "nbconvert_exporter": "python",
   "pygments_lexer": "ipython3",
   "version": "3.9.13"
  }
 },
 "nbformat": 4,
 "nbformat_minor": 5
}
